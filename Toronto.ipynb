{
 "cells": [
  {
   "cell_type": "code",
   "execution_count": 189,
   "metadata": {},
   "outputs": [],
   "source": [
    "#Import librairies\n",
    "import requests\n",
    "import pandas as pd\n",
    "import numpy as np\n",
    "from bs4 import BeautifulSoup\n",
    "\n",
    "#Get wikipedia data\n",
    "website_url = requests.get(\"https://en.wikipedia.org/wiki/List_of_postal_codes_of_Canada:_M\").text\n",
    "soup = BeautifulSoup(website_url,\"lxml\")\n",
    "My_table = soup.find(\"table\",{\"class\":\"wikitable sortable\"})\n"
   ]
  },
  {
   "cell_type": "code",
   "execution_count": 190,
   "metadata": {},
   "outputs": [
    {
     "data": {
      "text/html": [
       "<div>\n",
       "<style scoped>\n",
       "    .dataframe tbody tr th:only-of-type {\n",
       "        vertical-align: middle;\n",
       "    }\n",
       "\n",
       "    .dataframe tbody tr th {\n",
       "        vertical-align: top;\n",
       "    }\n",
       "\n",
       "    .dataframe thead th {\n",
       "        text-align: right;\n",
       "    }\n",
       "</style>\n",
       "<table border=\"1\" class=\"dataframe\">\n",
       "  <thead>\n",
       "    <tr style=\"text-align: right;\">\n",
       "      <th></th>\n",
       "      <th>PostalCode</th>\n",
       "      <th>Borough</th>\n",
       "      <th>Neighborhood</th>\n",
       "    </tr>\n",
       "  </thead>\n",
       "  <tbody>\n",
       "    <tr>\n",
       "      <th>0</th>\n",
       "      <td>M1A</td>\n",
       "      <td>Not assigned</td>\n",
       "      <td>Not assigned</td>\n",
       "    </tr>\n",
       "    <tr>\n",
       "      <th>1</th>\n",
       "      <td>M2A</td>\n",
       "      <td>Not assigned</td>\n",
       "      <td>Not assigned</td>\n",
       "    </tr>\n",
       "    <tr>\n",
       "      <th>2</th>\n",
       "      <td>M3A</td>\n",
       "      <td>North York</td>\n",
       "      <td>Parkwoods</td>\n",
       "    </tr>\n",
       "    <tr>\n",
       "      <th>3</th>\n",
       "      <td>M4A</td>\n",
       "      <td>North York</td>\n",
       "      <td>Victoria Village</td>\n",
       "    </tr>\n",
       "    <tr>\n",
       "      <th>4</th>\n",
       "      <td>M5A</td>\n",
       "      <td>Downtown Toronto</td>\n",
       "      <td>Harbourfront</td>\n",
       "    </tr>\n",
       "  </tbody>\n",
       "</table>\n",
       "</div>"
      ],
      "text/plain": [
       "  PostalCode           Borough      Neighborhood\n",
       "0        M1A      Not assigned     Not assigned\n",
       "\n",
       "1        M2A      Not assigned     Not assigned\n",
       "\n",
       "2        M3A        North York         Parkwoods\n",
       "3        M4A        North York  Victoria Village\n",
       "4        M5A  Downtown Toronto      Harbourfront"
      ]
     },
     "execution_count": 190,
     "metadata": {},
     "output_type": "execute_result"
    }
   ],
   "source": [
    "#Create DataFrame from 3 first columns\n",
    "PostalCode = []\n",
    "Borough = []\n",
    "Neighborhood = []\n",
    "df = pd.DataFrame()\n",
    "\n",
    "for row in My_table.findAll('tr'):\n",
    "    cells=row.findAll('td')\n",
    "    if len(cells) > 1:\n",
    "        A = cells[0].find(text=True)\n",
    "        B = cells[1].find(text=True)\n",
    "        C = cells[2].find(text=True)\n",
    "        PostalCode.append(A)\n",
    "        Borough.append(B)\n",
    "        Neighborhood.append(C)\n",
    "        \n",
    "df['PostalCode'] = PostalCode\n",
    "df['Borough'] = Borough\n",
    "df['Neighborhood'] = Neighborhood\n",
    "df.head()"
   ]
  },
  {
   "cell_type": "code",
   "execution_count": 191,
   "metadata": {},
   "outputs": [],
   "source": [
    "#Retrieve \"Not assigned\" Borough\n",
    "df = df[df['Borough'] != \"Not assigned\"]\n",
    "\n",
    "#Replace \"Not assigned\" Neighborhood\n",
    "for i in range(len(df['Borough'])):\n",
    "    if df['Neighborhood'].iloc[i] == \"Not assigned\":\n",
    "        df['Neighborhood'].iloc[i] = df['Borough'] .iloc[i] \n",
    "        \n",
    "        \n",
    "df = df.sort_values(by=['PostalCode'])\n",
    "\n",
    "m = len(df['PostalCode'])\n",
    "df2 = df\n",
    "\n",
    "#Save number of distinct value of Postal Code\n",
    "n = df['PostalCode'].nunique()"
   ]
  },
  {
   "cell_type": "code",
   "execution_count": 192,
   "metadata": {},
   "outputs": [],
   "source": [
    "\n",
    "a = df['PostalCode'].iloc[0]\n",
    "b = df['Borough'].iloc[0] \n",
    "c = df['Neighborhood'].iloc[0]\n",
    "\n",
    "for i in range(m-1):\n",
    "    i = i + 1\n",
    "    if df['PostalCode'].iloc[i] != a:\n",
    "        df2['PostalCode'].iloc[i]  = df['PostalCode'].iloc[i] \n",
    "        df2['Borough'].iloc[i]  = df['Borough'].iloc[i] \n",
    "        df2['Neighborhood'].iloc[i]  = ', '.join(set(list(df[df['PostalCode'] == df['PostalCode'].iloc[i]]['Neighborhood'])))\n",
    "        a = df['PostalCode'].iloc[i]\n",
    "    else:\n",
    "        a = df['PostalCode'].iloc[i]\n",
    "        df2['PostalCode'].iloc[i]  = \"Not assigned\"\n",
    "        df2['Borough'].iloc[i]  = \"Not assigned\"\n",
    "        df2['Neighborhood'].iloc[i]  = \"Not assigned\""
   ]
  },
  {
   "cell_type": "code",
   "execution_count": 193,
   "metadata": {},
   "outputs": [],
   "source": [
    "#Clean duplicates\n",
    "df2 = df2[df2['Borough'] != \"Not assigned\"]"
   ]
  },
  {
   "cell_type": "code",
   "execution_count": 194,
   "metadata": {},
   "outputs": [
    {
     "data": {
      "text/plain": [
       "True"
      ]
     },
     "execution_count": 194,
     "metadata": {},
     "output_type": "execute_result"
    }
   ],
   "source": [
    "#Sanity check df2 size is equal to distinct value of Postal Code\n",
    "n == len(df2['Borough'] )"
   ]
  },
  {
   "cell_type": "code",
   "execution_count": 197,
   "metadata": {},
   "outputs": [
    {
     "data": {
      "text/html": [
       "<div>\n",
       "<style scoped>\n",
       "    .dataframe tbody tr th:only-of-type {\n",
       "        vertical-align: middle;\n",
       "    }\n",
       "\n",
       "    .dataframe tbody tr th {\n",
       "        vertical-align: top;\n",
       "    }\n",
       "\n",
       "    .dataframe thead th {\n",
       "        text-align: right;\n",
       "    }\n",
       "</style>\n",
       "<table border=\"1\" class=\"dataframe\">\n",
       "  <thead>\n",
       "    <tr style=\"text-align: right;\">\n",
       "      <th></th>\n",
       "      <th>PostalCode</th>\n",
       "      <th>Borough</th>\n",
       "      <th>Neighborhood</th>\n",
       "    </tr>\n",
       "  </thead>\n",
       "  <tbody>\n",
       "    <tr>\n",
       "      <th>5</th>\n",
       "      <td>M5A</td>\n",
       "      <td>Downtown Toronto</td>\n",
       "      <td>Regent Park, Harbourfront</td>\n",
       "    </tr>\n",
       "  </tbody>\n",
       "</table>\n",
       "</div>"
      ],
      "text/plain": [
       "  PostalCode           Borough               Neighborhood\n",
       "5        M5A  Downtown Toronto  Regent Park, Harbourfront"
      ]
     },
     "execution_count": 197,
     "metadata": {},
     "output_type": "execute_result"
    }
   ],
   "source": [
    "#Sanity check on example \"M5A\"\n",
    "df2[df2['PostalCode'] == \"M5A\"]"
   ]
  },
  {
   "cell_type": "code",
   "execution_count": 195,
   "metadata": {},
   "outputs": [
    {
     "data": {
      "text/plain": [
       "(103, 3)"
      ]
     },
     "execution_count": 195,
     "metadata": {},
     "output_type": "execute_result"
    }
   ],
   "source": [
    "#Check the shape of the DataFrame\n",
    "df2.shape"
   ]
  },
  {
   "cell_type": "code",
   "execution_count": 212,
   "metadata": {},
   "outputs": [
    {
     "data": {
      "text/plain": [
       "PostalCode      object\n",
       "Borough         object\n",
       "Neighborhood    object\n",
       "dtype: object"
      ]
     },
     "execution_count": 212,
     "metadata": {},
     "output_type": "execute_result"
    }
   ],
   "source": [
    "geo = pd.read_csv('http://cocl.us/Geospatial_data')\n"
   ]
  },
  {
   "cell_type": "code",
   "execution_count": 227,
   "metadata": {},
   "outputs": [],
   "source": [
    "df_final =df2.merge(geo, right_on = 'Postal Code' , left_on = 'PostalCode' ,how='left')"
   ]
  },
  {
   "cell_type": "code",
   "execution_count": 228,
   "metadata": {},
   "outputs": [
    {
     "data": {
      "text/html": [
       "<div>\n",
       "<style scoped>\n",
       "    .dataframe tbody tr th:only-of-type {\n",
       "        vertical-align: middle;\n",
       "    }\n",
       "\n",
       "    .dataframe tbody tr th {\n",
       "        vertical-align: top;\n",
       "    }\n",
       "\n",
       "    .dataframe thead th {\n",
       "        text-align: right;\n",
       "    }\n",
       "</style>\n",
       "<table border=\"1\" class=\"dataframe\">\n",
       "  <thead>\n",
       "    <tr style=\"text-align: right;\">\n",
       "      <th></th>\n",
       "      <th>Borough</th>\n",
       "      <th>Neighborhood</th>\n",
       "      <th>Postal Code</th>\n",
       "      <th>Latitude</th>\n",
       "      <th>Longitude</th>\n",
       "    </tr>\n",
       "  </thead>\n",
       "  <tbody>\n",
       "    <tr>\n",
       "      <th>0</th>\n",
       "      <td>Scarborough</td>\n",
       "      <td>Rouge</td>\n",
       "      <td>M1B</td>\n",
       "      <td>43.806686</td>\n",
       "      <td>-79.194353</td>\n",
       "    </tr>\n",
       "    <tr>\n",
       "      <th>1</th>\n",
       "      <td>Scarborough</td>\n",
       "      <td>Rouge Hill, Port Union, Highland Creek</td>\n",
       "      <td>M1C</td>\n",
       "      <td>43.784535</td>\n",
       "      <td>-79.160497</td>\n",
       "    </tr>\n",
       "    <tr>\n",
       "      <th>2</th>\n",
       "      <td>Scarborough</td>\n",
       "      <td>Guildwood\\n, Morningside, West Hill</td>\n",
       "      <td>M1E</td>\n",
       "      <td>43.763573</td>\n",
       "      <td>-79.188711</td>\n",
       "    </tr>\n",
       "    <tr>\n",
       "      <th>3</th>\n",
       "      <td>Scarborough</td>\n",
       "      <td>Woburn</td>\n",
       "      <td>M1G</td>\n",
       "      <td>43.770992</td>\n",
       "      <td>-79.216917</td>\n",
       "    </tr>\n",
       "    <tr>\n",
       "      <th>4</th>\n",
       "      <td>Scarborough</td>\n",
       "      <td>Cedarbrae\\n</td>\n",
       "      <td>M1H</td>\n",
       "      <td>43.773136</td>\n",
       "      <td>-79.239476</td>\n",
       "    </tr>\n",
       "  </tbody>\n",
       "</table>\n",
       "</div>"
      ],
      "text/plain": [
       "       Borough                            Neighborhood Postal Code   Latitude  \\\n",
       "0  Scarborough                                   Rouge         M1B  43.806686   \n",
       "1  Scarborough  Rouge Hill, Port Union, Highland Creek         M1C  43.784535   \n",
       "2  Scarborough     Guildwood\\n, Morningside, West Hill         M1E  43.763573   \n",
       "3  Scarborough                                  Woburn         M1G  43.770992   \n",
       "4  Scarborough                             Cedarbrae\\n         M1H  43.773136   \n",
       "\n",
       "   Longitude  \n",
       "0 -79.194353  \n",
       "1 -79.160497  \n",
       "2 -79.188711  \n",
       "3 -79.216917  \n",
       "4 -79.239476  "
      ]
     },
     "execution_count": 228,
     "metadata": {},
     "output_type": "execute_result"
    }
   ],
   "source": [
    "df_final1=df_final.drop(columns = ['PostalCode_x'])\n",
    "df_final=df_final1.drop(columns = ['PostalCode_y'])\n",
    "df_final.head()"
   ]
  },
  {
   "cell_type": "code",
   "execution_count": null,
   "metadata": {},
   "outputs": [],
   "source": []
  }
 ],
 "metadata": {
  "kernelspec": {
   "display_name": "Python 3.5",
   "language": "python",
   "name": "python3"
  },
  "language_info": {
   "codemirror_mode": {
    "name": "ipython",
    "version": 3
   },
   "file_extension": ".py",
   "mimetype": "text/x-python",
   "name": "python",
   "nbconvert_exporter": "python",
   "pygments_lexer": "ipython3",
   "version": "3.5.5"
  }
 },
 "nbformat": 4,
 "nbformat_minor": 1
}
